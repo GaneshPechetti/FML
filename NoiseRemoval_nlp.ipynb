{
  "nbformat": 4,
  "nbformat_minor": 0,
  "metadata": {
    "colab": {
      "provenance": [],
      "authorship_tag": "ABX9TyPEcufbjDMNN6JIcvSpLEPn",
      "include_colab_link": true
    },
    "kernelspec": {
      "name": "python3",
      "display_name": "Python 3"
    },
    "language_info": {
      "name": "python"
    }
  },
  "cells": [
    {
      "cell_type": "markdown",
      "metadata": {
        "id": "view-in-github",
        "colab_type": "text"
      },
      "source": [
        "<a href=\"https://colab.research.google.com/github/GaneshPechetti/FML/blob/main/NoiseRemoval_nlp.ipynb\" target=\"_parent\"><img src=\"https://colab.research.google.com/assets/colab-badge.svg\" alt=\"Open In Colab\"/></a>"
      ]
    },
    {
      "cell_type": "code",
      "execution_count": 35,
      "metadata": {
        "id": "PxILSgBE6A9G"
      },
      "outputs": [],
      "source": [
        "#importing libraries\n",
        "import nltk\n",
        "from nltk.corpus import stopwords\n",
        "from nltk.tokenize import word_tokenize\n",
        "import string"
      ]
    },
    {
      "cell_type": "code",
      "source": [
        "#downloading necessities\n",
        "nltk.download('stopwords')\n",
        "nltk.download('punkt')"
      ],
      "metadata": {
        "colab": {
          "base_uri": "https://localhost:8080/"
        },
        "id": "juQwYX1x8gUI",
        "outputId": "1f1dd6ce-ca25-49bc-b288-0232080bf141"
      },
      "execution_count": 36,
      "outputs": [
        {
          "output_type": "stream",
          "name": "stderr",
          "text": [
            "[nltk_data] Downloading package stopwords to /root/nltk_data...\n",
            "[nltk_data]   Package stopwords is already up-to-date!\n",
            "[nltk_data] Downloading package punkt to /root/nltk_data...\n",
            "[nltk_data]   Package punkt is already up-to-date!\n"
          ]
        },
        {
          "output_type": "execute_result",
          "data": {
            "text/plain": [
              "True"
            ]
          },
          "metadata": {},
          "execution_count": 36
        }
      ]
    },
    {
      "cell_type": "code",
      "source": [
        "#removing punctuation marks\n",
        "def remove_punctuation(doc):\n",
        "    for i in doc:\n",
        "        if i in string.punctuation:\n",
        "            doc = doc.replace(i,\"\")\n",
        "    return doc"
      ],
      "metadata": {
        "id": "RQdFuFru6VAw"
      },
      "execution_count": 37,
      "outputs": []
    },
    {
      "cell_type": "code",
      "source": [
        "#removing stopwords\n",
        "def remove_stopwords(doc):\n",
        "    stop_words = set(stopwords.words('english'))\n",
        "    word_tokens = word_tokenize(doc);\n",
        "    # print(stop_words)\n",
        "\n",
        "    filtered_doc = []\n",
        "\n",
        "    for w in word_tokens:\n",
        "        if w not in stop_words:\n",
        "            filtered_doc.append(w.lower())\n",
        "\n",
        "    return filtered_doc"
      ],
      "metadata": {
        "id": "51xkcGM56kgL"
      },
      "execution_count": 38,
      "outputs": []
    },
    {
      "cell_type": "code",
      "source": [
        "#data loading\n",
        "data = \"\"\"Triumph Motorcycles Ltd is the largest UK-owned motorcycle manufacturer, established\n",
        " in 1983 by John Bloor after the original company Triumph Engineering went into \n",
        " receivership.[1] The new company, initially called Bonneville Coventry Ltd,\n",
        "  continued Triumph's lineage of motorcycle production since 1902. They have major \n",
        "  manufacturing facilities in Thailand.\"\"\""
      ],
      "metadata": {
        "id": "HWLAuuRi7Syw"
      },
      "execution_count": 39,
      "outputs": []
    },
    {
      "cell_type": "code",
      "source": [
        "#printing output after removing punctuation marks\n",
        "removed_punc_data = remove_punctuation(data)\n",
        "print(removed_punc_data)"
      ],
      "metadata": {
        "colab": {
          "base_uri": "https://localhost:8080/"
        },
        "id": "Q36kcAgk7iSi",
        "outputId": "1a79d5d5-702f-4c8b-9e3f-f27f7034b86e"
      },
      "execution_count": 40,
      "outputs": [
        {
          "output_type": "stream",
          "name": "stdout",
          "text": [
            "Triumph Motorcycles Ltd is the largest UKowned motorcycle manufacturer established\n",
            " in 1983 by John Bloor after the original company Triumph Engineering went into \n",
            " receivership1 The new company initially called Bonneville Coventry Ltd\n",
            "  continued Triumphs lineage of motorcycle production since 1902 They have major \n",
            "  manufacturing facilities in Thailand\n"
          ]
        }
      ]
    },
    {
      "cell_type": "code",
      "source": [
        "#Final output after removing stopwords\n",
        "stopwords_removed = remove_stopwords(removed_punc_data)\n",
        "print(*stopwords_removed,sep=\" \")"
      ],
      "metadata": {
        "colab": {
          "base_uri": "https://localhost:8080/"
        },
        "id": "sLMHIMDv7-hA",
        "outputId": "56bd7f0a-c380-4cff-f98b-3f3299deda32"
      },
      "execution_count": 41,
      "outputs": [
        {
          "output_type": "stream",
          "name": "stdout",
          "text": [
            "triumph motorcycles ltd largest ukowned motorcycle manufacturer established 1983 john bloor original company triumph engineering went receivership1 the new company initially called bonneville coventry ltd continued triumphs lineage motorcycle production since 1902 they major manufacturing facilities thailand\n"
          ]
        }
      ]
    }
  ]
}
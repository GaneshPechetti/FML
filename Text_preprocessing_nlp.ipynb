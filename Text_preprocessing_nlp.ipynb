{
  "nbformat": 4,
  "nbformat_minor": 0,
  "metadata": {
    "colab": {
      "provenance": [],
      "authorship_tag": "ABX9TyMVwJmHha1J08wJKVA32eW1",
      "include_colab_link": true
    },
    "kernelspec": {
      "name": "python3",
      "display_name": "Python 3"
    },
    "language_info": {
      "name": "python"
    }
  },
  "cells": [
    {
      "cell_type": "markdown",
      "metadata": {
        "id": "view-in-github",
        "colab_type": "text"
      },
      "source": [
        "<a href=\"https://colab.research.google.com/github/GaneshPechetti/FML/blob/main/Text_preprocessing_nlp.ipynb\" target=\"_parent\"><img src=\"https://colab.research.google.com/assets/colab-badge.svg\" alt=\"Open In Colab\"/></a>"
      ]
    },
    {
      "cell_type": "code",
      "execution_count": null,
      "metadata": {
        "id": "PxILSgBE6A9G"
      },
      "outputs": [],
      "source": [
        "#importing libraries\n",
        "import nltk\n",
        "from nltk.corpus import stopwords\n",
        "from nltk.tokenize import word_tokenize\n",
        "import string"
      ]
    },
    {
      "cell_type": "code",
      "source": [
        "#downloading necessities\n",
        "nltk.download('stopwords')\n",
        "nltk.download('punkt')"
      ],
      "metadata": {
        "colab": {
          "base_uri": "https://localhost:8080/"
        },
        "id": "juQwYX1x8gUI",
        "outputId": "1f1dd6ce-ca25-49bc-b288-0232080bf141"
      },
      "execution_count": null,
      "outputs": [
        {
          "output_type": "stream",
          "name": "stderr",
          "text": [
            "[nltk_data] Downloading package stopwords to /root/nltk_data...\n",
            "[nltk_data]   Package stopwords is already up-to-date!\n",
            "[nltk_data] Downloading package punkt to /root/nltk_data...\n",
            "[nltk_data]   Package punkt is already up-to-date!\n"
          ]
        },
        {
          "output_type": "execute_result",
          "data": {
            "text/plain": [
              "True"
            ]
          },
          "metadata": {},
          "execution_count": 36
        }
      ]
    },
    {
      "cell_type": "markdown",
      "source": [
        "#Noise Removal"
      ],
      "metadata": {
        "id": "Zr0OGnJX-7_L"
      }
    },
    {
      "cell_type": "code",
      "source": [
        "#removing punctuation marks\n",
        "def remove_punctuation(doc):\n",
        "    for i in doc:\n",
        "        if i in string.punctuation:\n",
        "            doc = doc.replace(i,\"\")\n",
        "    return doc"
      ],
      "metadata": {
        "id": "RQdFuFru6VAw"
      },
      "execution_count": null,
      "outputs": []
    },
    {
      "cell_type": "code",
      "source": [
        "#removing stopwords\n",
        "def remove_stopwords(doc):\n",
        "    stop_words = set(stopwords.words('english'))\n",
        "    word_tokens = word_tokenize(doc);\n",
        "    # print(stop_words)\n",
        "\n",
        "    filtered_doc = []\n",
        "\n",
        "    for w in word_tokens:\n",
        "        if w not in stop_words:\n",
        "            filtered_doc.append(w.lower())\n",
        "\n",
        "    return filtered_doc"
      ],
      "metadata": {
        "id": "51xkcGM56kgL"
      },
      "execution_count": null,
      "outputs": []
    },
    {
      "cell_type": "code",
      "source": [
        "#data loading\n",
        "data = \"\"\"Triumph Motorcycles Ltd is the largest UK-owned motorcycle manufacturer, established\n",
        " in 1983 by John Bloor after the original company Triumph Engineering went into \n",
        " receivership.[1] The new company, initially called Bonneville Coventry Ltd,\n",
        "  continued Triumph's lineage of motorcycle production since 1902. They have major \n",
        "  manufacturing facilities in Thailand.\"\"\""
      ],
      "metadata": {
        "id": "HWLAuuRi7Syw"
      },
      "execution_count": null,
      "outputs": []
    },
    {
      "cell_type": "code",
      "source": [
        "#printing output after removing punctuation marks\n",
        "removed_punc_data = remove_punctuation(data)\n",
        "print(removed_punc_data)"
      ],
      "metadata": {
        "colab": {
          "base_uri": "https://localhost:8080/"
        },
        "id": "Q36kcAgk7iSi",
        "outputId": "1a79d5d5-702f-4c8b-9e3f-f27f7034b86e"
      },
      "execution_count": null,
      "outputs": [
        {
          "output_type": "stream",
          "name": "stdout",
          "text": [
            "Triumph Motorcycles Ltd is the largest UKowned motorcycle manufacturer established\n",
            " in 1983 by John Bloor after the original company Triumph Engineering went into \n",
            " receivership1 The new company initially called Bonneville Coventry Ltd\n",
            "  continued Triumphs lineage of motorcycle production since 1902 They have major \n",
            "  manufacturing facilities in Thailand\n"
          ]
        }
      ]
    },
    {
      "cell_type": "code",
      "source": [
        "#Final output after removing stopwords\n",
        "stopwords_removed = remove_stopwords(removed_punc_data)\n",
        "print(*stopwords_removed,sep=\" \")"
      ],
      "metadata": {
        "colab": {
          "base_uri": "https://localhost:8080/"
        },
        "id": "sLMHIMDv7-hA",
        "outputId": "56bd7f0a-c380-4cff-f98b-3f3299deda32"
      },
      "execution_count": null,
      "outputs": [
        {
          "output_type": "stream",
          "name": "stdout",
          "text": [
            "triumph motorcycles ltd largest ukowned motorcycle manufacturer established 1983 john bloor original company triumph engineering went receivership1 the new company initially called bonneville coventry ltd continued triumphs lineage motorcycle production since 1902 they major manufacturing facilities thailand\n"
          ]
        }
      ]
    },
    {
      "cell_type": "markdown",
      "source": [
        "#Stemming"
      ],
      "metadata": {
        "id": "jGI5UQFG_EHq"
      }
    },
    {
      "cell_type": "code",
      "source": [
        "import nltk"
      ],
      "metadata": {
        "id": "exJii7AvAFIq"
      },
      "execution_count": 49,
      "outputs": []
    },
    {
      "cell_type": "code",
      "source": [
        "from nltk.stem import PorterStemmer\n",
        "ps = PorterStemmer()"
      ],
      "metadata": {
        "id": "Q1VvefFB_GpW"
      },
      "execution_count": 58,
      "outputs": []
    },
    {
      "cell_type": "code",
      "source": [
        "clean_data = \" \".join(stopwords_removed)"
      ],
      "metadata": {
        "id": "aAJUIjGJ_QYX"
      },
      "execution_count": 59,
      "outputs": []
    },
    {
      "cell_type": "code",
      "source": [
        "from nltk.tokenize import sent_tokenize, word_tokenize"
      ],
      "metadata": {
        "id": "xoNXeD9y_lT1"
      },
      "execution_count": 60,
      "outputs": []
    },
    {
      "cell_type": "code",
      "source": [
        "def stemSentence(doc):\n",
        "    token_words = word_tokenize(doc)\n",
        "    print(token_words)\n",
        "    stem_sentence=[]\n",
        "    for word in token_words:\n",
        "        stem_sentence.append(ps.stem(word))\n",
        "    return \" \".join(stem_sentence)\n"
      ],
      "metadata": {
        "id": "Jp0xIC9c_2Le"
      },
      "execution_count": 61,
      "outputs": []
    },
    {
      "cell_type": "code",
      "source": [
        "Stemming_output = stemSentence(clean_data)\n",
        "print()\n",
        "print(f\"Sentence after stemming : {Stemming_output}\")"
      ],
      "metadata": {
        "colab": {
          "base_uri": "https://localhost:8080/"
        },
        "id": "1y7gUddIAs7L",
        "outputId": "e5046002-8e05-43dc-f621-9481bec74574"
      },
      "execution_count": 63,
      "outputs": [
        {
          "output_type": "stream",
          "name": "stdout",
          "text": [
            "['triumph', 'motorcycles', 'ltd', 'largest', 'ukowned', 'motorcycle', 'manufacturer', 'established', '1983', 'john', 'bloor', 'original', 'company', 'triumph', 'engineering', 'went', 'receivership1', 'the', 'new', 'company', 'initially', 'called', 'bonneville', 'coventry', 'ltd', 'continued', 'triumphs', 'lineage', 'motorcycle', 'production', 'since', '1902', 'they', 'major', 'manufacturing', 'facilities', 'thailand']\n",
            "\n",
            "Sentence after stemming : triumph motorcycl ltd largest ukown motorcycl manufactur establish 1983 john bloor origin compani triumph engin went receivership1 the new compani initi call bonnevil coventri ltd continu triumph lineag motorcycl product sinc 1902 they major manufactur facil thailand\n"
          ]
        }
      ]
    },
    {
      "cell_type": "markdown",
      "source": [
        "#Lemmatizaion"
      ],
      "metadata": {
        "id": "q4ZCRAUkBhkL"
      }
    },
    {
      "cell_type": "code",
      "source": [
        "import nltk\n",
        "nltk.download('wordnet')"
      ],
      "metadata": {
        "colab": {
          "base_uri": "https://localhost:8080/"
        },
        "id": "mt_Ej1nPA8-h",
        "outputId": "2a978231-c9ba-4fbe-ecd5-4613e04c61bc"
      },
      "execution_count": 64,
      "outputs": [
        {
          "output_type": "stream",
          "name": "stderr",
          "text": [
            "[nltk_data] Downloading package wordnet to /root/nltk_data...\n"
          ]
        },
        {
          "output_type": "execute_result",
          "data": {
            "text/plain": [
              "True"
            ]
          },
          "metadata": {},
          "execution_count": 64
        }
      ]
    },
    {
      "cell_type": "code",
      "source": [
        "from nltk.stem import WordNetLemmatizer\n",
        "lemma = WordNetLemmatizer()"
      ],
      "metadata": {
        "id": "RJgSjWVNB77D"
      },
      "execution_count": 65,
      "outputs": []
    },
    {
      "cell_type": "code",
      "source": [
        "from nltk.tokenize import word_tokenize"
      ],
      "metadata": {
        "id": "J-PSxAN8CJ88"
      },
      "execution_count": 66,
      "outputs": []
    },
    {
      "cell_type": "code",
      "source": [
        "def lemmatizerSentence(doc):\n",
        "    token_words = word_tokenize(doc)\n",
        "    print(token_words)\n",
        "    lemma_output = []\n",
        "    for word in token_words:\n",
        "        lemma_output.append(lemma.lemmatize(word))\n",
        "    return \" \".join(lemma_output)"
      ],
      "metadata": {
        "id": "iL9etyW4CVDj"
      },
      "execution_count": 68,
      "outputs": []
    },
    {
      "cell_type": "code",
      "source": [
        "clean_data = \" \".join(stopwords_removed)"
      ],
      "metadata": {
        "id": "ZiR6cbwpC3Bf"
      },
      "execution_count": 69,
      "outputs": []
    },
    {
      "cell_type": "code",
      "source": [
        "lemma_output = lemmatizerSentence(clean_data)\n",
        "print(\"Sentence after Lemmatizaton  : \",lemma_output)"
      ],
      "metadata": {
        "colab": {
          "base_uri": "https://localhost:8080/"
        },
        "id": "yIHSYTVIDDwC",
        "outputId": "0f69317f-ba73-42df-e726-2eeca421d484"
      },
      "execution_count": 70,
      "outputs": [
        {
          "output_type": "stream",
          "name": "stdout",
          "text": [
            "['triumph', 'motorcycles', 'ltd', 'largest', 'ukowned', 'motorcycle', 'manufacturer', 'established', '1983', 'john', 'bloor', 'original', 'company', 'triumph', 'engineering', 'went', 'receivership1', 'the', 'new', 'company', 'initially', 'called', 'bonneville', 'coventry', 'ltd', 'continued', 'triumphs', 'lineage', 'motorcycle', 'production', 'since', '1902', 'they', 'major', 'manufacturing', 'facilities', 'thailand']\n",
            "Sentence after Lemmatizaton  :  triumph motorcycle ltd largest ukowned motorcycle manufacturer established 1983 john bloor original company triumph engineering went receivership1 the new company initially called bonneville coventry ltd continued triumph lineage motorcycle production since 1902 they major manufacturing facility thailand\n"
          ]
        }
      ]
    },
    {
      "cell_type": "markdown",
      "source": [
        "#comparing lemmatization output and stemmming output"
      ],
      "metadata": {
        "id": "Q5zjYBY2Fv1t"
      }
    },
    {
      "cell_type": "code",
      "source": [
        "l=lemma_output.split()\n",
        "s=Stemming_output.split()\n",
        "print(len(l),len(s))"
      ],
      "metadata": {
        "colab": {
          "base_uri": "https://localhost:8080/"
        },
        "id": "7KcxCz-aDPck",
        "outputId": "4fb403df-ac19-4795-9049-e167c4df614f"
      },
      "execution_count": 74,
      "outputs": [
        {
          "output_type": "stream",
          "name": "stdout",
          "text": [
            "37 37\n"
          ]
        }
      ]
    },
    {
      "cell_type": "code",
      "source": [
        "\n",
        "# import module\n",
        "from tabulate import tabulate\n",
        " \n",
        "# assign data\n",
        "mydata = data\n",
        " \n",
        "# create header\n",
        "head = ['Lemmatization','Stemming']\n",
        " \n",
        "# display table\n",
        "print(tabulate(mydata, headers=head, tablefmt=\"grid\"))"
      ],
      "metadata": {
        "colab": {
          "base_uri": "https://localhost:8080/"
        },
        "id": "SWrTJctCEkIk",
        "outputId": "47f9b173-0269-43e3-943d-5831a2f66487"
      },
      "execution_count": 85,
      "outputs": [
        {
          "output_type": "stream",
          "name": "stdout",
          "text": [
            "+----+-----------------+---------------+\n",
            "|    | Lemmatization   | Stemming      |\n",
            "+====+=================+===============+\n",
            "|  0 | triumph         | triumph       |\n",
            "+----+-----------------+---------------+\n",
            "|  1 | motorcycle      | motorcycl     |\n",
            "+----+-----------------+---------------+\n",
            "|  2 | ltd             | ltd           |\n",
            "+----+-----------------+---------------+\n",
            "|  3 | largest         | largest       |\n",
            "+----+-----------------+---------------+\n",
            "|  4 | ukowned         | ukown         |\n",
            "+----+-----------------+---------------+\n",
            "|  5 | motorcycle      | motorcycl     |\n",
            "+----+-----------------+---------------+\n",
            "|  6 | manufacturer    | manufactur    |\n",
            "+----+-----------------+---------------+\n",
            "|  7 | established     | establish     |\n",
            "+----+-----------------+---------------+\n",
            "|  8 | 1983            | 1983          |\n",
            "+----+-----------------+---------------+\n",
            "|  9 | john            | john          |\n",
            "+----+-----------------+---------------+\n",
            "| 10 | bloor           | bloor         |\n",
            "+----+-----------------+---------------+\n",
            "| 11 | original        | origin        |\n",
            "+----+-----------------+---------------+\n",
            "| 12 | company         | compani       |\n",
            "+----+-----------------+---------------+\n",
            "| 13 | triumph         | triumph       |\n",
            "+----+-----------------+---------------+\n",
            "| 14 | engineering     | engin         |\n",
            "+----+-----------------+---------------+\n",
            "| 15 | went            | went          |\n",
            "+----+-----------------+---------------+\n",
            "| 16 | receivership1   | receivership1 |\n",
            "+----+-----------------+---------------+\n",
            "| 17 | the             | the           |\n",
            "+----+-----------------+---------------+\n",
            "| 18 | new             | new           |\n",
            "+----+-----------------+---------------+\n",
            "| 19 | company         | compani       |\n",
            "+----+-----------------+---------------+\n",
            "| 20 | initially       | initi         |\n",
            "+----+-----------------+---------------+\n",
            "| 21 | called          | call          |\n",
            "+----+-----------------+---------------+\n",
            "| 22 | bonneville      | bonnevil      |\n",
            "+----+-----------------+---------------+\n",
            "| 23 | coventry        | coventri      |\n",
            "+----+-----------------+---------------+\n",
            "| 24 | ltd             | ltd           |\n",
            "+----+-----------------+---------------+\n",
            "| 25 | continued       | continu       |\n",
            "+----+-----------------+---------------+\n",
            "| 26 | triumph         | triumph       |\n",
            "+----+-----------------+---------------+\n",
            "| 27 | lineage         | lineag        |\n",
            "+----+-----------------+---------------+\n",
            "| 28 | motorcycle      | motorcycl     |\n",
            "+----+-----------------+---------------+\n",
            "| 29 | production      | product       |\n",
            "+----+-----------------+---------------+\n",
            "| 30 | since           | sinc          |\n",
            "+----+-----------------+---------------+\n",
            "| 31 | 1902            | 1902          |\n",
            "+----+-----------------+---------------+\n",
            "| 32 | they            | they          |\n",
            "+----+-----------------+---------------+\n",
            "| 33 | major           | major         |\n",
            "+----+-----------------+---------------+\n",
            "| 34 | manufacturing   | manufactur    |\n",
            "+----+-----------------+---------------+\n",
            "| 35 | facility        | facil         |\n",
            "+----+-----------------+---------------+\n",
            "| 36 | thailand        | thailand      |\n",
            "+----+-----------------+---------------+\n"
          ]
        }
      ]
    },
    {
      "cell_type": "code",
      "source": [],
      "metadata": {
        "id": "o2OcQpX0FIfd"
      },
      "execution_count": null,
      "outputs": []
    }
  ]
}